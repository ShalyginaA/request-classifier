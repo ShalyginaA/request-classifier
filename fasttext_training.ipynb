{
 "cells": [
  {
   "cell_type": "code",
   "execution_count": 1,
   "metadata": {},
   "outputs": [],
   "source": [
    "import pandas as pd\n",
    "import numpy as np"
   ]
  },
  {
   "cell_type": "code",
   "execution_count": 2,
   "metadata": {},
   "outputs": [],
   "source": [
    "import nltk"
   ]
  },
  {
   "cell_type": "code",
   "execution_count": 3,
   "metadata": {},
   "outputs": [
    {
     "name": "stderr",
     "output_type": "stream",
     "text": [
      "[nltk_data] Downloading package stopwords to\n",
      "[nltk_data]     /home/anastasiia/nltk_data...\n",
      "[nltk_data]   Package stopwords is already up-to-date!\n"
     ]
    },
    {
     "data": {
      "text/plain": [
       "True"
      ]
     },
     "execution_count": 3,
     "metadata": {},
     "output_type": "execute_result"
    }
   ],
   "source": [
    "nltk.download(\"stopwords\")"
   ]
  },
  {
   "cell_type": "code",
   "execution_count": 4,
   "metadata": {},
   "outputs": [],
   "source": [
    "from nltk.corpus import stopwords"
   ]
  },
  {
   "cell_type": "code",
   "execution_count": 5,
   "metadata": {},
   "outputs": [],
   "source": [
    "from pymystem3 import Mystem"
   ]
  },
  {
   "cell_type": "code",
   "execution_count": 6,
   "metadata": {},
   "outputs": [],
   "source": [
    "from string import punctuation"
   ]
  },
  {
   "cell_type": "code",
   "execution_count": 7,
   "metadata": {},
   "outputs": [],
   "source": [
    "import re"
   ]
  },
  {
   "cell_type": "code",
   "execution_count": 8,
   "metadata": {},
   "outputs": [],
   "source": [
    "from sklearn.preprocessing import LabelEncoder\n",
    "from sklearn.metrics import accuracy_score, f1_score"
   ]
  },
  {
   "cell_type": "code",
   "execution_count": 9,
   "metadata": {},
   "outputs": [],
   "source": [
    "import fasttext"
   ]
  },
  {
   "cell_type": "code",
   "execution_count": 10,
   "metadata": {},
   "outputs": [],
   "source": [
    "import warnings\n",
    "warnings.filterwarnings(\"ignore\",category=DeprecationWarning)"
   ]
  },
  {
   "cell_type": "markdown",
   "metadata": {},
   "source": [
    "### Load the data"
   ]
  },
  {
   "cell_type": "code",
   "execution_count": 11,
   "metadata": {},
   "outputs": [],
   "source": [
    "train = pd.read_csv('data/train_data.csv')\n",
    "test = pd.read_csv('data/test_data.csv')"
   ]
  },
  {
   "cell_type": "code",
   "execution_count": 12,
   "metadata": {},
   "outputs": [
    {
     "data": {
      "text/html": [
       "<div>\n",
       "<style scoped>\n",
       "    .dataframe tbody tr th:only-of-type {\n",
       "        vertical-align: middle;\n",
       "    }\n",
       "\n",
       "    .dataframe tbody tr th {\n",
       "        vertical-align: top;\n",
       "    }\n",
       "\n",
       "    .dataframe thead th {\n",
       "        text-align: right;\n",
       "    }\n",
       "</style>\n",
       "<table border=\"1\" class=\"dataframe\">\n",
       "  <thead>\n",
       "    <tr style=\"text-align: right;\">\n",
       "      <th></th>\n",
       "      <th>Пример текста</th>\n",
       "      <th>Класс</th>\n",
       "    </tr>\n",
       "  </thead>\n",
       "  <tbody>\n",
       "    <tr>\n",
       "      <th>0</th>\n",
       "      <td>хочу в отпуск</td>\n",
       "      <td>VACATION-REQUEST</td>\n",
       "    </tr>\n",
       "    <tr>\n",
       "      <th>1</th>\n",
       "      <td>мне бы в отдохнуть</td>\n",
       "      <td>VACATION-REQUEST</td>\n",
       "    </tr>\n",
       "    <tr>\n",
       "      <th>2</th>\n",
       "      <td>как мне взять отпуск</td>\n",
       "      <td>VACATION-REQUEST</td>\n",
       "    </tr>\n",
       "    <tr>\n",
       "      <th>3</th>\n",
       "      <td>хочу отгул на следующей неделе</td>\n",
       "      <td>VACATION-REQUEST</td>\n",
       "    </tr>\n",
       "    <tr>\n",
       "      <th>4</th>\n",
       "      <td>хочу улететь в турцию</td>\n",
       "      <td>VACATION-REQUEST</td>\n",
       "    </tr>\n",
       "  </tbody>\n",
       "</table>\n",
       "</div>"
      ],
      "text/plain": [
       "                    Пример текста             Класс\n",
       "0                   хочу в отпуск  VACATION-REQUEST\n",
       "1              мне бы в отдохнуть  VACATION-REQUEST\n",
       "2            как мне взять отпуск  VACATION-REQUEST\n",
       "3  хочу отгул на следующей неделе  VACATION-REQUEST\n",
       "4           хочу улететь в турцию  VACATION-REQUEST"
      ]
     },
     "execution_count": 12,
     "metadata": {},
     "output_type": "execute_result"
    }
   ],
   "source": [
    "train.head()"
   ]
  },
  {
   "cell_type": "code",
   "execution_count": 13,
   "metadata": {},
   "outputs": [],
   "source": [
    "train.columns = ['message', 'label']\n",
    "test.columns = ['message', 'label']"
   ]
  },
  {
   "cell_type": "code",
   "execution_count": 14,
   "metadata": {},
   "outputs": [
    {
     "data": {
      "text/html": [
       "<div>\n",
       "<style scoped>\n",
       "    .dataframe tbody tr th:only-of-type {\n",
       "        vertical-align: middle;\n",
       "    }\n",
       "\n",
       "    .dataframe tbody tr th {\n",
       "        vertical-align: top;\n",
       "    }\n",
       "\n",
       "    .dataframe thead th {\n",
       "        text-align: right;\n",
       "    }\n",
       "</style>\n",
       "<table border=\"1\" class=\"dataframe\">\n",
       "  <thead>\n",
       "    <tr style=\"text-align: right;\">\n",
       "      <th></th>\n",
       "      <th>message</th>\n",
       "      <th>label</th>\n",
       "    </tr>\n",
       "  </thead>\n",
       "  <tbody>\n",
       "    <tr>\n",
       "      <th>0</th>\n",
       "      <td>хочу в отпуск</td>\n",
       "      <td>VACATION-REQUEST</td>\n",
       "    </tr>\n",
       "    <tr>\n",
       "      <th>1</th>\n",
       "      <td>мне бы в отдохнуть</td>\n",
       "      <td>VACATION-REQUEST</td>\n",
       "    </tr>\n",
       "    <tr>\n",
       "      <th>2</th>\n",
       "      <td>как мне взять отпуск</td>\n",
       "      <td>VACATION-REQUEST</td>\n",
       "    </tr>\n",
       "    <tr>\n",
       "      <th>3</th>\n",
       "      <td>хочу отгул на следующей неделе</td>\n",
       "      <td>VACATION-REQUEST</td>\n",
       "    </tr>\n",
       "    <tr>\n",
       "      <th>4</th>\n",
       "      <td>хочу улететь в турцию</td>\n",
       "      <td>VACATION-REQUEST</td>\n",
       "    </tr>\n",
       "  </tbody>\n",
       "</table>\n",
       "</div>"
      ],
      "text/plain": [
       "                          message             label\n",
       "0                   хочу в отпуск  VACATION-REQUEST\n",
       "1              мне бы в отдохнуть  VACATION-REQUEST\n",
       "2            как мне взять отпуск  VACATION-REQUEST\n",
       "3  хочу отгул на следующей неделе  VACATION-REQUEST\n",
       "4           хочу улететь в турцию  VACATION-REQUEST"
      ]
     },
     "execution_count": 14,
     "metadata": {},
     "output_type": "execute_result"
    }
   ],
   "source": [
    "train.head()"
   ]
  },
  {
   "cell_type": "code",
   "execution_count": 15,
   "metadata": {},
   "outputs": [
    {
     "data": {
      "text/plain": [
       "SICK-LEAVE-REPORT    11\n",
       "SALARY-REQUEST       11\n",
       "VACATION-REQUEST     10\n",
       "Name: label, dtype: int64"
      ]
     },
     "execution_count": 15,
     "metadata": {},
     "output_type": "execute_result"
    }
   ],
   "source": [
    "train['label'].value_counts()"
   ]
  },
  {
   "cell_type": "code",
   "execution_count": 16,
   "metadata": {},
   "outputs": [
    {
     "data": {
      "text/html": [
       "<div>\n",
       "<style scoped>\n",
       "    .dataframe tbody tr th:only-of-type {\n",
       "        vertical-align: middle;\n",
       "    }\n",
       "\n",
       "    .dataframe tbody tr th {\n",
       "        vertical-align: top;\n",
       "    }\n",
       "\n",
       "    .dataframe thead th {\n",
       "        text-align: right;\n",
       "    }\n",
       "</style>\n",
       "<table border=\"1\" class=\"dataframe\">\n",
       "  <thead>\n",
       "    <tr style=\"text-align: right;\">\n",
       "      <th></th>\n",
       "      <th>message</th>\n",
       "      <th>label</th>\n",
       "    </tr>\n",
       "  </thead>\n",
       "  <tbody>\n",
       "    <tr>\n",
       "      <th>0</th>\n",
       "      <td>хочу в отпуск</td>\n",
       "      <td>VACATION-REQUEST</td>\n",
       "    </tr>\n",
       "    <tr>\n",
       "      <th>1</th>\n",
       "      <td>мне бы в отдохнуть</td>\n",
       "      <td>VACATION-REQUEST</td>\n",
       "    </tr>\n",
       "    <tr>\n",
       "      <th>2</th>\n",
       "      <td>как мне взять отпуск</td>\n",
       "      <td>VACATION-REQUEST</td>\n",
       "    </tr>\n",
       "    <tr>\n",
       "      <th>3</th>\n",
       "      <td>хочу отгул на следующей неделе</td>\n",
       "      <td>VACATION-REQUEST</td>\n",
       "    </tr>\n",
       "    <tr>\n",
       "      <th>4</th>\n",
       "      <td>хочу улететь в турцию</td>\n",
       "      <td>VACATION-REQUEST</td>\n",
       "    </tr>\n",
       "    <tr>\n",
       "      <th>5</th>\n",
       "      <td>нужно два дня отпуска на следующей неделе</td>\n",
       "      <td>VACATION-REQUEST</td>\n",
       "    </tr>\n",
       "    <tr>\n",
       "      <th>6</th>\n",
       "      <td>уйду в отпуск в октябре</td>\n",
       "      <td>VACATION-REQUEST</td>\n",
       "    </tr>\n",
       "    <tr>\n",
       "      <th>7</th>\n",
       "      <td>можно я отдохну</td>\n",
       "      <td>VACATION-REQUEST</td>\n",
       "    </tr>\n",
       "    <tr>\n",
       "      <th>8</th>\n",
       "      <td>мне нужно взять пару дней выходных</td>\n",
       "      <td>VACATION-REQUEST</td>\n",
       "    </tr>\n",
       "    <tr>\n",
       "      <th>9</th>\n",
       "      <td>я очень хочу отдохнуть</td>\n",
       "      <td>VACATION-REQUEST</td>\n",
       "    </tr>\n",
       "    <tr>\n",
       "      <th>10</th>\n",
       "      <td>сколько я заработал</td>\n",
       "      <td>SALARY-REQUEST</td>\n",
       "    </tr>\n",
       "    <tr>\n",
       "      <th>11</th>\n",
       "      <td>какая у меня зарплата за март</td>\n",
       "      <td>SALARY-REQUEST</td>\n",
       "    </tr>\n",
       "    <tr>\n",
       "      <th>12</th>\n",
       "      <td>сколько мне заплатили в этом месяце</td>\n",
       "      <td>SALARY-REQUEST</td>\n",
       "    </tr>\n",
       "    <tr>\n",
       "      <th>13</th>\n",
       "      <td>почему мне заплатили так мало</td>\n",
       "      <td>SALARY-REQUEST</td>\n",
       "    </tr>\n",
       "    <tr>\n",
       "      <th>14</th>\n",
       "      <td>сколько мне переведут денег</td>\n",
       "      <td>SALARY-REQUEST</td>\n",
       "    </tr>\n",
       "    <tr>\n",
       "      <th>15</th>\n",
       "      <td>когда придет зарплата</td>\n",
       "      <td>SALARY-REQUEST</td>\n",
       "    </tr>\n",
       "    <tr>\n",
       "      <th>16</th>\n",
       "      <td>посмотреть расчетный листок</td>\n",
       "      <td>SALARY-REQUEST</td>\n",
       "    </tr>\n",
       "    <tr>\n",
       "      <th>17</th>\n",
       "      <td>где взять расчетный лист</td>\n",
       "      <td>SALARY-REQUEST</td>\n",
       "    </tr>\n",
       "    <tr>\n",
       "      <th>18</th>\n",
       "      <td>когда мне заплатят</td>\n",
       "      <td>SALARY-REQUEST</td>\n",
       "    </tr>\n",
       "    <tr>\n",
       "      <th>19</th>\n",
       "      <td>когда заплатят зарплату</td>\n",
       "      <td>SALARY-REQUEST</td>\n",
       "    </tr>\n",
       "    <tr>\n",
       "      <th>20</th>\n",
       "      <td>дадут ли мне зарплату</td>\n",
       "      <td>SALARY-REQUEST</td>\n",
       "    </tr>\n",
       "    <tr>\n",
       "      <th>21</th>\n",
       "      <td>я заболел</td>\n",
       "      <td>SICK-LEAVE-REPORT</td>\n",
       "    </tr>\n",
       "    <tr>\n",
       "      <th>22</th>\n",
       "      <td>горло болит</td>\n",
       "      <td>SICK-LEAVE-REPORT</td>\n",
       "    </tr>\n",
       "    <tr>\n",
       "      <th>23</th>\n",
       "      <td>у меня температура</td>\n",
       "      <td>SICK-LEAVE-REPORT</td>\n",
       "    </tr>\n",
       "    <tr>\n",
       "      <th>24</th>\n",
       "      <td>мне нужно к врачу</td>\n",
       "      <td>SICK-LEAVE-REPORT</td>\n",
       "    </tr>\n",
       "    <tr>\n",
       "      <th>25</th>\n",
       "      <td>хочу взять больничный</td>\n",
       "      <td>SICK-LEAVE-REPORT</td>\n",
       "    </tr>\n",
       "    <tr>\n",
       "      <th>26</th>\n",
       "      <td>можно я не пойду на работу</td>\n",
       "      <td>SICK-LEAVE-REPORT</td>\n",
       "    </tr>\n",
       "    <tr>\n",
       "      <th>27</th>\n",
       "      <td>плохо себя чувствую</td>\n",
       "      <td>SICK-LEAVE-REPORT</td>\n",
       "    </tr>\n",
       "    <tr>\n",
       "      <th>28</th>\n",
       "      <td>очень болит голова</td>\n",
       "      <td>SICK-LEAVE-REPORT</td>\n",
       "    </tr>\n",
       "    <tr>\n",
       "      <th>29</th>\n",
       "      <td>я пойду в доктору</td>\n",
       "      <td>SICK-LEAVE-REPORT</td>\n",
       "    </tr>\n",
       "    <tr>\n",
       "      <th>30</th>\n",
       "      <td>мне нужно посетить врача</td>\n",
       "      <td>SICK-LEAVE-REPORT</td>\n",
       "    </tr>\n",
       "    <tr>\n",
       "      <th>31</th>\n",
       "      <td>как мне получить больничный</td>\n",
       "      <td>SICK-LEAVE-REPORT</td>\n",
       "    </tr>\n",
       "  </tbody>\n",
       "</table>\n",
       "</div>"
      ],
      "text/plain": [
       "                                      message              label\n",
       "0                               хочу в отпуск   VACATION-REQUEST\n",
       "1                          мне бы в отдохнуть   VACATION-REQUEST\n",
       "2                        как мне взять отпуск   VACATION-REQUEST\n",
       "3              хочу отгул на следующей неделе   VACATION-REQUEST\n",
       "4                       хочу улететь в турцию   VACATION-REQUEST\n",
       "5   нужно два дня отпуска на следующей неделе   VACATION-REQUEST\n",
       "6                     уйду в отпуск в октябре   VACATION-REQUEST\n",
       "7                             можно я отдохну   VACATION-REQUEST\n",
       "8          мне нужно взять пару дней выходных   VACATION-REQUEST\n",
       "9                      я очень хочу отдохнуть   VACATION-REQUEST\n",
       "10                        сколько я заработал     SALARY-REQUEST\n",
       "11              какая у меня зарплата за март     SALARY-REQUEST\n",
       "12        сколько мне заплатили в этом месяце     SALARY-REQUEST\n",
       "13              почему мне заплатили так мало     SALARY-REQUEST\n",
       "14                сколько мне переведут денег     SALARY-REQUEST\n",
       "15                      когда придет зарплата     SALARY-REQUEST\n",
       "16                посмотреть расчетный листок     SALARY-REQUEST\n",
       "17                   где взять расчетный лист     SALARY-REQUEST\n",
       "18                         когда мне заплатят     SALARY-REQUEST\n",
       "19                    когда заплатят зарплату     SALARY-REQUEST\n",
       "20                      дадут ли мне зарплату     SALARY-REQUEST\n",
       "21                                  я заболел  SICK-LEAVE-REPORT\n",
       "22                                горло болит  SICK-LEAVE-REPORT\n",
       "23                         у меня температура  SICK-LEAVE-REPORT\n",
       "24                          мне нужно к врачу  SICK-LEAVE-REPORT\n",
       "25                      хочу взять больничный  SICK-LEAVE-REPORT\n",
       "26                 можно я не пойду на работу  SICK-LEAVE-REPORT\n",
       "27                        плохо себя чувствую  SICK-LEAVE-REPORT\n",
       "28                         очень болит голова  SICK-LEAVE-REPORT\n",
       "29                          я пойду в доктору  SICK-LEAVE-REPORT\n",
       "30                   мне нужно посетить врача  SICK-LEAVE-REPORT\n",
       "31                как мне получить больничный  SICK-LEAVE-REPORT"
      ]
     },
     "execution_count": 16,
     "metadata": {},
     "output_type": "execute_result"
    }
   ],
   "source": [
    "train"
   ]
  },
  {
   "cell_type": "code",
   "execution_count": 17,
   "metadata": {},
   "outputs": [
    {
     "data": {
      "text/html": [
       "<div>\n",
       "<style scoped>\n",
       "    .dataframe tbody tr th:only-of-type {\n",
       "        vertical-align: middle;\n",
       "    }\n",
       "\n",
       "    .dataframe tbody tr th {\n",
       "        vertical-align: top;\n",
       "    }\n",
       "\n",
       "    .dataframe thead th {\n",
       "        text-align: right;\n",
       "    }\n",
       "</style>\n",
       "<table border=\"1\" class=\"dataframe\">\n",
       "  <thead>\n",
       "    <tr style=\"text-align: right;\">\n",
       "      <th></th>\n",
       "      <th>message</th>\n",
       "      <th>label</th>\n",
       "    </tr>\n",
       "  </thead>\n",
       "  <tbody>\n",
       "    <tr>\n",
       "      <th>0</th>\n",
       "      <td>Я хочу сходить в отпуск с 1 по 4 декабря</td>\n",
       "      <td>VACATION-REQUEST</td>\n",
       "    </tr>\n",
       "    <tr>\n",
       "      <th>1</th>\n",
       "      <td>Мне нужен отпуск с понедельника</td>\n",
       "      <td>VACATION-REQUEST</td>\n",
       "    </tr>\n",
       "    <tr>\n",
       "      <th>2</th>\n",
       "      <td>Как мне получить оптуск</td>\n",
       "      <td>VACATION-REQUEST</td>\n",
       "    </tr>\n",
       "    <tr>\n",
       "      <th>3</th>\n",
       "      <td>Я буду отдыхать на следующей неделе</td>\n",
       "      <td>VACATION-REQUEST</td>\n",
       "    </tr>\n",
       "    <tr>\n",
       "      <th>4</th>\n",
       "      <td>Какая у меня была зарплата за прошлый месяц?</td>\n",
       "      <td>SALARY-REQUEST</td>\n",
       "    </tr>\n",
       "    <tr>\n",
       "      <th>5</th>\n",
       "      <td>Сколько я заработал в январе?</td>\n",
       "      <td>SALARY-REQUEST</td>\n",
       "    </tr>\n",
       "    <tr>\n",
       "      <th>6</th>\n",
       "      <td>Пришлите мне рассетный лист</td>\n",
       "      <td>SALARY-REQUEST</td>\n",
       "    </tr>\n",
       "    <tr>\n",
       "      <th>7</th>\n",
       "      <td>Сколько всего мне зраплатят в апреле?</td>\n",
       "      <td>SALARY-REQUEST</td>\n",
       "    </tr>\n",
       "    <tr>\n",
       "      <th>8</th>\n",
       "      <td>Мне нужно взять больничный на пару дней</td>\n",
       "      <td>SICK-LEAVE-REPORT</td>\n",
       "    </tr>\n",
       "    <tr>\n",
       "      <th>9</th>\n",
       "      <td>Я хочу сегодня сходить к доктору</td>\n",
       "      <td>SICK-LEAVE-REPORT</td>\n",
       "    </tr>\n",
       "    <tr>\n",
       "      <th>10</th>\n",
       "      <td>Не приду сегодня на работу, я заболел</td>\n",
       "      <td>SICK-LEAVE-REPORT</td>\n",
       "    </tr>\n",
       "    <tr>\n",
       "      <th>11</th>\n",
       "      <td>Бльничный нужен</td>\n",
       "      <td>SICK-LEAVE-REPORT</td>\n",
       "    </tr>\n",
       "  </tbody>\n",
       "</table>\n",
       "</div>"
      ],
      "text/plain": [
       "                                         message              label\n",
       "0       Я хочу сходить в отпуск с 1 по 4 декабря   VACATION-REQUEST\n",
       "1                Мне нужен отпуск с понедельника   VACATION-REQUEST\n",
       "2                        Как мне получить оптуск   VACATION-REQUEST\n",
       "3            Я буду отдыхать на следующей неделе   VACATION-REQUEST\n",
       "4   Какая у меня была зарплата за прошлый месяц?     SALARY-REQUEST\n",
       "5                  Сколько я заработал в январе?     SALARY-REQUEST\n",
       "6                    Пришлите мне рассетный лист     SALARY-REQUEST\n",
       "7          Сколько всего мне зраплатят в апреле?     SALARY-REQUEST\n",
       "8        Мне нужно взять больничный на пару дней  SICK-LEAVE-REPORT\n",
       "9               Я хочу сегодня сходить к доктору  SICK-LEAVE-REPORT\n",
       "10         Не приду сегодня на работу, я заболел  SICK-LEAVE-REPORT\n",
       "11                               Бльничный нужен  SICK-LEAVE-REPORT"
      ]
     },
     "execution_count": 17,
     "metadata": {},
     "output_type": "execute_result"
    }
   ],
   "source": [
    "test"
   ]
  },
  {
   "cell_type": "markdown",
   "metadata": {},
   "source": [
    "### Preprocessing"
   ]
  },
  {
   "cell_type": "code",
   "execution_count": 18,
   "metadata": {},
   "outputs": [],
   "source": [
    "mystem = Mystem() \n",
    "stopwords = stopwords.words(\"russian\")"
   ]
  },
  {
   "cell_type": "code",
   "execution_count": 19,
   "metadata": {},
   "outputs": [],
   "source": [
    "def preprocess_message(message):\n",
    "    #lemmatize\n",
    "    tokens = mystem.lemmatize(message.lower())\n",
    "    #remove stopwords\n",
    "    tokens = [token for token in tokens if token not in stopwords\n",
    "              and token != \" \" \n",
    "              and token.strip() not in punctuation]\n",
    "    \n",
    "    result = \" \".join(tokens)\n",
    "    \n",
    "    #remove numbers from the string\n",
    "    result = re.sub(r'\\d+', '', result)\n",
    "    \n",
    "    return result"
   ]
  },
  {
   "cell_type": "code",
   "execution_count": 20,
   "metadata": {},
   "outputs": [],
   "source": [
    "train['message_processed'] = train['message'].apply(preprocess_message)"
   ]
  },
  {
   "cell_type": "code",
   "execution_count": 21,
   "metadata": {},
   "outputs": [
    {
     "data": {
      "text/html": [
       "<div>\n",
       "<style scoped>\n",
       "    .dataframe tbody tr th:only-of-type {\n",
       "        vertical-align: middle;\n",
       "    }\n",
       "\n",
       "    .dataframe tbody tr th {\n",
       "        vertical-align: top;\n",
       "    }\n",
       "\n",
       "    .dataframe thead th {\n",
       "        text-align: right;\n",
       "    }\n",
       "</style>\n",
       "<table border=\"1\" class=\"dataframe\">\n",
       "  <thead>\n",
       "    <tr style=\"text-align: right;\">\n",
       "      <th></th>\n",
       "      <th>message</th>\n",
       "      <th>label</th>\n",
       "      <th>message_processed</th>\n",
       "    </tr>\n",
       "  </thead>\n",
       "  <tbody>\n",
       "    <tr>\n",
       "      <th>0</th>\n",
       "      <td>хочу в отпуск</td>\n",
       "      <td>VACATION-REQUEST</td>\n",
       "      <td>хотеть отпуск</td>\n",
       "    </tr>\n",
       "    <tr>\n",
       "      <th>1</th>\n",
       "      <td>мне бы в отдохнуть</td>\n",
       "      <td>VACATION-REQUEST</td>\n",
       "      <td>отдыхать</td>\n",
       "    </tr>\n",
       "    <tr>\n",
       "      <th>2</th>\n",
       "      <td>как мне взять отпуск</td>\n",
       "      <td>VACATION-REQUEST</td>\n",
       "      <td>взять отпуск</td>\n",
       "    </tr>\n",
       "    <tr>\n",
       "      <th>3</th>\n",
       "      <td>хочу отгул на следующей неделе</td>\n",
       "      <td>VACATION-REQUEST</td>\n",
       "      <td>хотеть отгул следующий неделя</td>\n",
       "    </tr>\n",
       "    <tr>\n",
       "      <th>4</th>\n",
       "      <td>хочу улететь в турцию</td>\n",
       "      <td>VACATION-REQUEST</td>\n",
       "      <td>хотеть улетать турция</td>\n",
       "    </tr>\n",
       "  </tbody>\n",
       "</table>\n",
       "</div>"
      ],
      "text/plain": [
       "                          message             label  \\\n",
       "0                   хочу в отпуск  VACATION-REQUEST   \n",
       "1              мне бы в отдохнуть  VACATION-REQUEST   \n",
       "2            как мне взять отпуск  VACATION-REQUEST   \n",
       "3  хочу отгул на следующей неделе  VACATION-REQUEST   \n",
       "4           хочу улететь в турцию  VACATION-REQUEST   \n",
       "\n",
       "               message_processed  \n",
       "0                  хотеть отпуск  \n",
       "1                       отдыхать  \n",
       "2                   взять отпуск  \n",
       "3  хотеть отгул следующий неделя  \n",
       "4          хотеть улетать турция  "
      ]
     },
     "execution_count": 21,
     "metadata": {},
     "output_type": "execute_result"
    }
   ],
   "source": [
    "train.head()"
   ]
  },
  {
   "cell_type": "code",
   "execution_count": 22,
   "metadata": {},
   "outputs": [],
   "source": [
    "test['message_processed'] = test['message'].apply(preprocess_message)"
   ]
  },
  {
   "cell_type": "markdown",
   "metadata": {},
   "source": [
    "### Model training"
   ]
  },
  {
   "cell_type": "code",
   "execution_count": 23,
   "metadata": {},
   "outputs": [],
   "source": [
    "#encode labels \n",
    "encoder = LabelEncoder()\n",
    "\n",
    "train_y = encoder.fit_transform(train['label'])\n",
    "test_y = encoder.transform(test['label'])\n",
    "\n",
    "train['label_encoded'] = train_y\n",
    "test['label_encoded'] = test_y"
   ]
  },
  {
   "cell_type": "code",
   "execution_count": 24,
   "metadata": {},
   "outputs": [
    {
     "data": {
      "text/html": [
       "<div>\n",
       "<style scoped>\n",
       "    .dataframe tbody tr th:only-of-type {\n",
       "        vertical-align: middle;\n",
       "    }\n",
       "\n",
       "    .dataframe tbody tr th {\n",
       "        vertical-align: top;\n",
       "    }\n",
       "\n",
       "    .dataframe thead th {\n",
       "        text-align: right;\n",
       "    }\n",
       "</style>\n",
       "<table border=\"1\" class=\"dataframe\">\n",
       "  <thead>\n",
       "    <tr style=\"text-align: right;\">\n",
       "      <th></th>\n",
       "      <th>message</th>\n",
       "      <th>label</th>\n",
       "      <th>message_processed</th>\n",
       "      <th>label_encoded</th>\n",
       "    </tr>\n",
       "  </thead>\n",
       "  <tbody>\n",
       "    <tr>\n",
       "      <th>0</th>\n",
       "      <td>хочу в отпуск</td>\n",
       "      <td>VACATION-REQUEST</td>\n",
       "      <td>хотеть отпуск</td>\n",
       "      <td>2</td>\n",
       "    </tr>\n",
       "    <tr>\n",
       "      <th>1</th>\n",
       "      <td>мне бы в отдохнуть</td>\n",
       "      <td>VACATION-REQUEST</td>\n",
       "      <td>отдыхать</td>\n",
       "      <td>2</td>\n",
       "    </tr>\n",
       "    <tr>\n",
       "      <th>2</th>\n",
       "      <td>как мне взять отпуск</td>\n",
       "      <td>VACATION-REQUEST</td>\n",
       "      <td>взять отпуск</td>\n",
       "      <td>2</td>\n",
       "    </tr>\n",
       "    <tr>\n",
       "      <th>3</th>\n",
       "      <td>хочу отгул на следующей неделе</td>\n",
       "      <td>VACATION-REQUEST</td>\n",
       "      <td>хотеть отгул следующий неделя</td>\n",
       "      <td>2</td>\n",
       "    </tr>\n",
       "    <tr>\n",
       "      <th>4</th>\n",
       "      <td>хочу улететь в турцию</td>\n",
       "      <td>VACATION-REQUEST</td>\n",
       "      <td>хотеть улетать турция</td>\n",
       "      <td>2</td>\n",
       "    </tr>\n",
       "  </tbody>\n",
       "</table>\n",
       "</div>"
      ],
      "text/plain": [
       "                          message             label  \\\n",
       "0                   хочу в отпуск  VACATION-REQUEST   \n",
       "1              мне бы в отдохнуть  VACATION-REQUEST   \n",
       "2            как мне взять отпуск  VACATION-REQUEST   \n",
       "3  хочу отгул на следующей неделе  VACATION-REQUEST   \n",
       "4           хочу улететь в турцию  VACATION-REQUEST   \n",
       "\n",
       "               message_processed  label_encoded  \n",
       "0                  хотеть отпуск              2  \n",
       "1                       отдыхать              2  \n",
       "2                   взять отпуск              2  \n",
       "3  хотеть отгул следующий неделя              2  \n",
       "4          хотеть улетать турция              2  "
      ]
     },
     "execution_count": 24,
     "metadata": {},
     "output_type": "execute_result"
    }
   ],
   "source": [
    "train.head()"
   ]
  },
  {
   "cell_type": "code",
   "execution_count": 25,
   "metadata": {},
   "outputs": [
    {
     "data": {
      "text/html": [
       "<div>\n",
       "<style scoped>\n",
       "    .dataframe tbody tr th:only-of-type {\n",
       "        vertical-align: middle;\n",
       "    }\n",
       "\n",
       "    .dataframe tbody tr th {\n",
       "        vertical-align: top;\n",
       "    }\n",
       "\n",
       "    .dataframe thead th {\n",
       "        text-align: right;\n",
       "    }\n",
       "</style>\n",
       "<table border=\"1\" class=\"dataframe\">\n",
       "  <thead>\n",
       "    <tr style=\"text-align: right;\">\n",
       "      <th></th>\n",
       "      <th>message</th>\n",
       "      <th>label</th>\n",
       "      <th>message_processed</th>\n",
       "      <th>label_encoded</th>\n",
       "    </tr>\n",
       "  </thead>\n",
       "  <tbody>\n",
       "    <tr>\n",
       "      <th>0</th>\n",
       "      <td>Я хочу сходить в отпуск с 1 по 4 декабря</td>\n",
       "      <td>VACATION-REQUEST</td>\n",
       "      <td>хотеть сходить отпуск   декабрь</td>\n",
       "      <td>2</td>\n",
       "    </tr>\n",
       "    <tr>\n",
       "      <th>1</th>\n",
       "      <td>Мне нужен отпуск с понедельника</td>\n",
       "      <td>VACATION-REQUEST</td>\n",
       "      <td>нужный отпуск понедельник</td>\n",
       "      <td>2</td>\n",
       "    </tr>\n",
       "    <tr>\n",
       "      <th>2</th>\n",
       "      <td>Как мне получить оптуск</td>\n",
       "      <td>VACATION-REQUEST</td>\n",
       "      <td>получать оптускнуть</td>\n",
       "      <td>2</td>\n",
       "    </tr>\n",
       "    <tr>\n",
       "      <th>3</th>\n",
       "      <td>Я буду отдыхать на следующей неделе</td>\n",
       "      <td>VACATION-REQUEST</td>\n",
       "      <td>отдыхать следующий неделя</td>\n",
       "      <td>2</td>\n",
       "    </tr>\n",
       "    <tr>\n",
       "      <th>4</th>\n",
       "      <td>Какая у меня была зарплата за прошлый месяц?</td>\n",
       "      <td>SALARY-REQUEST</td>\n",
       "      <td>зарплата прошлый месяц</td>\n",
       "      <td>0</td>\n",
       "    </tr>\n",
       "    <tr>\n",
       "      <th>5</th>\n",
       "      <td>Сколько я заработал в январе?</td>\n",
       "      <td>SALARY-REQUEST</td>\n",
       "      <td>сколько зарабатывать январь</td>\n",
       "      <td>0</td>\n",
       "    </tr>\n",
       "    <tr>\n",
       "      <th>6</th>\n",
       "      <td>Пришлите мне рассетный лист</td>\n",
       "      <td>SALARY-REQUEST</td>\n",
       "      <td>присылать рассетный лист</td>\n",
       "      <td>0</td>\n",
       "    </tr>\n",
       "    <tr>\n",
       "      <th>7</th>\n",
       "      <td>Сколько всего мне зраплатят в апреле?</td>\n",
       "      <td>SALARY-REQUEST</td>\n",
       "      <td>сколько зраплатить апрель</td>\n",
       "      <td>0</td>\n",
       "    </tr>\n",
       "    <tr>\n",
       "      <th>8</th>\n",
       "      <td>Мне нужно взять больничный на пару дней</td>\n",
       "      <td>SICK-LEAVE-REPORT</td>\n",
       "      <td>нужно взять больничный пара день</td>\n",
       "      <td>1</td>\n",
       "    </tr>\n",
       "    <tr>\n",
       "      <th>9</th>\n",
       "      <td>Я хочу сегодня сходить к доктору</td>\n",
       "      <td>SICK-LEAVE-REPORT</td>\n",
       "      <td>хотеть сегодня сходить доктор</td>\n",
       "      <td>1</td>\n",
       "    </tr>\n",
       "    <tr>\n",
       "      <th>10</th>\n",
       "      <td>Не приду сегодня на работу, я заболел</td>\n",
       "      <td>SICK-LEAVE-REPORT</td>\n",
       "      <td>прийти сегодня работа заболевать</td>\n",
       "      <td>1</td>\n",
       "    </tr>\n",
       "    <tr>\n",
       "      <th>11</th>\n",
       "      <td>Бльничный нужен</td>\n",
       "      <td>SICK-LEAVE-REPORT</td>\n",
       "      <td>бльничный нужный</td>\n",
       "      <td>1</td>\n",
       "    </tr>\n",
       "  </tbody>\n",
       "</table>\n",
       "</div>"
      ],
      "text/plain": [
       "                                         message              label  \\\n",
       "0       Я хочу сходить в отпуск с 1 по 4 декабря   VACATION-REQUEST   \n",
       "1                Мне нужен отпуск с понедельника   VACATION-REQUEST   \n",
       "2                        Как мне получить оптуск   VACATION-REQUEST   \n",
       "3            Я буду отдыхать на следующей неделе   VACATION-REQUEST   \n",
       "4   Какая у меня была зарплата за прошлый месяц?     SALARY-REQUEST   \n",
       "5                  Сколько я заработал в январе?     SALARY-REQUEST   \n",
       "6                    Пришлите мне рассетный лист     SALARY-REQUEST   \n",
       "7          Сколько всего мне зраплатят в апреле?     SALARY-REQUEST   \n",
       "8        Мне нужно взять больничный на пару дней  SICK-LEAVE-REPORT   \n",
       "9               Я хочу сегодня сходить к доктору  SICK-LEAVE-REPORT   \n",
       "10         Не приду сегодня на работу, я заболел  SICK-LEAVE-REPORT   \n",
       "11                               Бльничный нужен  SICK-LEAVE-REPORT   \n",
       "\n",
       "                   message_processed  label_encoded  \n",
       "0    хотеть сходить отпуск   декабрь              2  \n",
       "1          нужный отпуск понедельник              2  \n",
       "2                получать оптускнуть              2  \n",
       "3          отдыхать следующий неделя              2  \n",
       "4             зарплата прошлый месяц              0  \n",
       "5        сколько зарабатывать январь              0  \n",
       "6           присылать рассетный лист              0  \n",
       "7          сколько зраплатить апрель              0  \n",
       "8   нужно взять больничный пара день              1  \n",
       "9      хотеть сегодня сходить доктор              1  \n",
       "10  прийти сегодня работа заболевать              1  \n",
       "11                  бльничный нужный              1  "
      ]
     },
     "execution_count": 25,
     "metadata": {},
     "output_type": "execute_result"
    }
   ],
   "source": [
    "test"
   ]
  },
  {
   "cell_type": "code",
   "execution_count": 26,
   "metadata": {},
   "outputs": [],
   "source": [
    "#make training data file\n",
    "train['target'] = train['label'].apply(lambda x: '__label__' + str(x))\n",
    "train[['target', 'message_processed']].to_csv('data/train_data.txt', header=False, index=False, sep=\"\\t\")"
   ]
  },
  {
   "cell_type": "code",
   "execution_count": 53,
   "metadata": {},
   "outputs": [],
   "source": [
    "#train fasttext classifier\n",
    "model = fasttext.train_supervised(input='data/train_data.txt', epoch=20)"
   ]
  },
  {
   "cell_type": "code",
   "execution_count": 54,
   "metadata": {},
   "outputs": [],
   "source": [
    "#save trained model\n",
    "model.save_model('trained_model/model_20ep.sav')"
   ]
  },
  {
   "cell_type": "code",
   "execution_count": 55,
   "metadata": {},
   "outputs": [
    {
     "name": "stderr",
     "output_type": "stream",
     "text": [
      "Warning : `load_model` does not return WordVectorModel or SupervisedModel any more, but a `FastText` object which is very similar.\n"
     ]
    }
   ],
   "source": [
    "#load trained model\n",
    "model = fasttext.load_model('trained_model/model_20ep.sav')"
   ]
  },
  {
   "cell_type": "code",
   "execution_count": 60,
   "metadata": {},
   "outputs": [],
   "source": [
    "#make predictions on the test data\n",
    "preds = test['message_processed'].apply(model.predict)"
   ]
  },
  {
   "cell_type": "code",
   "execution_count": 61,
   "metadata": {},
   "outputs": [],
   "source": [
    "pred_labels = [p[0][0].split('__label__')[1] for p in preds.tolist()]"
   ]
  },
  {
   "cell_type": "code",
   "execution_count": 62,
   "metadata": {},
   "outputs": [
    {
     "data": {
      "text/plain": [
       "['VACATION-REQUEST',\n",
       " 'VACATION-REQUEST',\n",
       " 'SICK-LEAVE-REPORT',\n",
       " 'VACATION-REQUEST',\n",
       " 'SALARY-REQUEST',\n",
       " 'SALARY-REQUEST',\n",
       " 'SALARY-REQUEST',\n",
       " 'SALARY-REQUEST',\n",
       " 'SICK-LEAVE-REPORT',\n",
       " 'SICK-LEAVE-REPORT',\n",
       " 'SICK-LEAVE-REPORT',\n",
       " 'SICK-LEAVE-REPORT']"
      ]
     },
     "execution_count": 62,
     "metadata": {},
     "output_type": "execute_result"
    }
   ],
   "source": [
    "pred_labels"
   ]
  },
  {
   "cell_type": "code",
   "execution_count": 63,
   "metadata": {},
   "outputs": [
    {
     "data": {
      "text/plain": [
       "array([2, 2, 1, 2, 0, 0, 0, 0, 1, 1, 1, 1])"
      ]
     },
     "execution_count": 63,
     "metadata": {},
     "output_type": "execute_result"
    }
   ],
   "source": [
    "#encode predicitons\n",
    "pred_encoded = encoder.transform(pred_labels)\n",
    "pred_encoded"
   ]
  },
  {
   "cell_type": "code",
   "execution_count": 64,
   "metadata": {},
   "outputs": [
    {
     "data": {
      "text/plain": [
       "0.9153439153439153"
      ]
     },
     "execution_count": 64,
     "metadata": {},
     "output_type": "execute_result"
    }
   ],
   "source": [
    "#check f1 score on the test set\n",
    "f1_score(test_y, pred_encoded, average='weighted')"
   ]
  },
  {
   "cell_type": "code",
   "execution_count": 65,
   "metadata": {},
   "outputs": [
    {
     "data": {
      "text/plain": [
       "0.9166666666666666"
      ]
     },
     "execution_count": 65,
     "metadata": {},
     "output_type": "execute_result"
    }
   ],
   "source": [
    "#check accuracy on the test set\n",
    "accuracy_score(test_y, pred_encoded)"
   ]
  },
  {
   "cell_type": "code",
   "execution_count": null,
   "metadata": {},
   "outputs": [],
   "source": []
  }
 ],
 "metadata": {
  "kernelspec": {
   "display_name": "Python 3",
   "language": "python",
   "name": "python3"
  },
  "language_info": {
   "codemirror_mode": {
    "name": "ipython",
    "version": 3
   },
   "file_extension": ".py",
   "mimetype": "text/x-python",
   "name": "python",
   "nbconvert_exporter": "python",
   "pygments_lexer": "ipython3",
   "version": "3.6.6"
  }
 },
 "nbformat": 4,
 "nbformat_minor": 2
}
